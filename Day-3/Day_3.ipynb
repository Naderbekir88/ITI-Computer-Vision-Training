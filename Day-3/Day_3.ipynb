{
 "cells": [
  {
   "cell_type": "code",
   "execution_count": 1,
   "metadata": {},
   "outputs": [
    {
     "data": {
      "text/plain": [
       "6"
      ]
     },
     "execution_count": 1,
     "metadata": {},
     "output_type": "execute_result"
    }
   ],
   "source": [
    "3+3"
   ]
  },
  {
   "cell_type": "code",
   "execution_count": 2,
   "metadata": {},
   "outputs": [
    {
     "data": {
      "text/plain": [
       "True"
      ]
     },
     "execution_count": 2,
     "metadata": {},
     "output_type": "execute_result"
    }
   ],
   "source": [
    "10<20"
   ]
  },
  {
   "cell_type": "code",
   "execution_count": 3,
   "metadata": {},
   "outputs": [
    {
     "data": {
      "text/plain": [
       "False"
      ]
     },
     "execution_count": 3,
     "metadata": {},
     "output_type": "execute_result"
    }
   ],
   "source": [
    "10 == \"10\""
   ]
  },
  {
   "cell_type": "code",
   "execution_count": 4,
   "metadata": {},
   "outputs": [
    {
     "data": {
      "text/plain": [
       "True"
      ]
     },
     "execution_count": 4,
     "metadata": {},
     "output_type": "execute_result"
    }
   ],
   "source": [
    "'bag' > 'Bag'   "
   ]
  },
  {
   "cell_type": "markdown",
   "metadata": {},
   "source": [
    "#### lower case range --->   97 -->122\n",
    "#### Upper case range --->   65 -->90"
   ]
  },
  {
   "cell_type": "code",
   "execution_count": 7,
   "metadata": {},
   "outputs": [
    {
     "data": {
      "text/plain": [
       "65"
      ]
     },
     "execution_count": 7,
     "metadata": {},
     "output_type": "execute_result"
    }
   ],
   "source": [
    "ord('A')  #Ascii code"
   ]
  },
  {
   "cell_type": "markdown",
   "metadata": {},
   "source": [
    "### If-Condition"
   ]
  },
  {
   "cell_type": "code",
   "execution_count": 8,
   "metadata": {},
   "outputs": [
    {
     "name": "stdout",
     "output_type": "stream",
     "text": [
      "X is greater than 5\n",
      "Done\n"
     ]
    }
   ],
   "source": [
    "x = 10  \n",
    "if x > 5:\n",
    "    print(\"X is greater than 5\")\n",
    "print(\"Done\")"
   ]
  },
  {
   "cell_type": "code",
   "execution_count": 10,
   "metadata": {},
   "outputs": [
    {
     "name": "stdout",
     "output_type": "stream",
     "text": [
      "Failed\n"
     ]
    }
   ],
   "source": [
    "Deg = 20\n",
    "if Deg >= 50:\n",
    "    print(\"Pass\")\n",
    "else:\n",
    "    print(\"Failed\")"
   ]
  },
  {
   "cell_type": "code",
   "execution_count": 15,
   "metadata": {},
   "outputs": [
    {
     "name": "stdout",
     "output_type": "stream",
     "text": [
      "F\n",
      "Done!\n"
     ]
    }
   ],
   "source": [
    "deg = 20\n",
    "if deg >85:\n",
    "    print('A')\n",
    "elif deg >75 :\n",
    "    print('B')\n",
    "elif deg >65 :\n",
    "    print(\"C\")\n",
    "elif deg >50:\n",
    "    print(\"D\")\n",
    "else:\n",
    "    print('F')\n",
    "print('Done!')"
   ]
  },
  {
   "cell_type": "markdown",
   "metadata": {},
   "source": [
    "## EX-1\n",
    "* input 3 ages and get the oldest and the youngest"
   ]
  },
  {
   "cell_type": "code",
   "execution_count": 1,
   "metadata": {},
   "outputs": [
    {
     "name": "stdout",
     "output_type": "stream",
     "text": [
      "Person 1 is oldest\n",
      "Person 3 is youngest\n"
     ]
    }
   ],
   "source": [
    "# Take Ages\n",
    "person1 = int(input(\"Enter the age of person 1 : \"))\n",
    "person2 = int(input(\"Enter the age of person 2 : \"))\n",
    "person3 = int(input(\"Enter the age of person 3 : \"))\n",
    "\n",
    "# check which one is the oldest\n",
    "if person1 > person2 and person1 > person3:\n",
    "    print(\"Person 1 is oldest\")\n",
    "elif person2 > person1 and person2 > person3:\n",
    "    print(\"Person 2 is oldest\")\n",
    "elif person3 > person1 and person3 > person2:\n",
    "    print(\"Person 3 is oldest\")\n",
    "\n",
    "# check which one is the youngest \n",
    "if person1 < person2 and person1 < person3:\n",
    "    print(\"Person 1 is youngest\")\n",
    "elif person2 < person1 and person2 < person3:\n",
    "    print(\"Person 2 is youngest\")\n",
    "elif person3 < person1 and person3 < person2:\n",
    "    print(\"Person 3 is youngest\")"
   ]
  },
  {
   "cell_type": "markdown",
   "metadata": {},
   "source": [
    "### Ternary Operator"
   ]
  },
  {
   "cell_type": "code",
   "execution_count": 2,
   "metadata": {},
   "outputs": [
    {
     "name": "stdout",
     "output_type": "stream",
     "text": [
      "succeded\n"
     ]
    }
   ],
   "source": [
    "grade = 100\n",
    "result = 'succeded' if grade >=50 else 'failed'\n",
    "print(result)"
   ]
  },
  {
   "cell_type": "code",
   "execution_count": 4,
   "metadata": {},
   "outputs": [
    {
     "name": "stdout",
     "output_type": "stream",
     "text": [
      "failed\n"
     ]
    }
   ],
   "source": [
    "grade =20\n",
    "result = ''\n",
    "if grade>=50:\n",
    "    result = 'succeeded'\n",
    "else:\n",
    "    result = 'failed'\n",
    "print(result)"
   ]
  },
  {
   "cell_type": "code",
   "execution_count": 7,
   "metadata": {},
   "outputs": [
    {
     "name": "stdout",
     "output_type": "stream",
     "text": [
      "Retrey !\n"
     ]
    }
   ],
   "source": [
    "num = int(input(\"Enter the number : \"))\n",
    "\n",
    "result= 'perfect'  if num <= 18 and num >= 65 else 'Retrey !' \n",
    "print(result)"
   ]
  },
  {
   "cell_type": "markdown",
   "metadata": {},
   "source": [
    "### Create Random Password Generators of alphabets & size=6\n",
    "#### Note : use random library "
   ]
  },
  {
   "cell_type": "code",
   "execution_count": 6,
   "metadata": {},
   "outputs": [
    {
     "name": "stdout",
     "output_type": "stream",
     "text": [
      "NJXwn8\n",
      "t53qqM\n",
      "06gpZ5\n",
      "CkyFSu\n",
      "JaLBuD\n",
      "UzO3wE\n",
      "laxKoJ\n",
      "Hbh91q\n",
      "PlFmdf\n",
      "rT0bPv\n",
      "vmDoTX\n",
      "rfRHJf\n",
      "PgkNzh\n",
      "OTwKMA\n",
      "cc8RP6\n",
      "1K5WSb\n",
      "fPZVNR\n",
      "u25FVb\n",
      "1FCcs0\n",
      "rtmLac\n"
     ]
    }
   ],
   "source": [
    "## import libraries\n",
    "import string\n",
    "import random\n",
    "\n",
    "def randomPassword():\n",
    "    ## characters to generate password from\n",
    "    chars= string.ascii_letters + string.digits\n",
    "    size = 6  \t\t\t## length of password\n",
    "    return ''.join(random.choice(chars) for x in range(size))\n",
    "n=0\n",
    "while n < 20:  \n",
    "    print(randomPassword())\n",
    "    n=n+1\n"
   ]
  },
  {
   "cell_type": "code",
   "execution_count": 1,
   "metadata": {},
   "outputs": [],
   "source": [
    "grades = [30,50,90,70,32,48,64]"
   ]
  },
  {
   "cell_type": "code",
   "execution_count": 2,
   "metadata": {},
   "outputs": [
    {
     "data": {
      "text/plain": [
       "48"
      ]
     },
     "execution_count": 2,
     "metadata": {},
     "output_type": "execute_result"
    }
   ],
   "source": [
    "grades[-2]"
   ]
  },
  {
   "cell_type": "code",
   "execution_count": 3,
   "metadata": {},
   "outputs": [
    {
     "data": {
      "text/plain": [
       "0"
      ]
     },
     "execution_count": 3,
     "metadata": {},
     "output_type": "execute_result"
    }
   ],
   "source": [
    "grades.index(30)"
   ]
  },
  {
   "cell_type": "code",
   "execution_count": 4,
   "metadata": {},
   "outputs": [
    {
     "name": "stdout",
     "output_type": "stream",
     "text": [
      "(0, 'a')\n",
      "(1, 'b')\n",
      "(2, 'c')\n",
      "(3, 'd')\n"
     ]
    }
   ],
   "source": [
    "for entery in enumerate (\"abcd\"):  # index of each value in our list \n",
    "    print(entery)"
   ]
  },
  {
   "cell_type": "markdown",
   "metadata": {},
   "source": [
    "#### count from 100 to -50 with step 2"
   ]
  },
  {
   "cell_type": "code",
   "execution_count": 12,
   "metadata": {},
   "outputs": [
    {
     "name": "stdout",
     "output_type": "stream",
     "text": [
      "10098969492908886848280787674727068666462605856545250484644424038363432302826242220181614121086420-2-4-6-8-10-12-14-16-18-20-22-24-26-28-30-32-34-36-38-40-42-44-46-48"
     ]
    }
   ],
   "source": [
    "for i in range(100,-50,-2):\n",
    "    print(i ,end='')"
   ]
  },
  {
   "cell_type": "markdown",
   "metadata": {},
   "source": [
    "### Function"
   ]
  },
  {
   "cell_type": "code",
   "execution_count": 13,
   "metadata": {},
   "outputs": [
    {
     "name": "stdout",
     "output_type": "stream",
     "text": [
      "Welcome\n"
     ]
    }
   ],
   "source": [
    "def great():\n",
    "    print(\"Welcome\")\n",
    "great()"
   ]
  },
  {
   "cell_type": "code",
   "execution_count": 15,
   "metadata": {},
   "outputs": [
    {
     "name": "stdout",
     "output_type": "stream",
     "text": [
      "hello Nader\n"
     ]
    }
   ],
   "source": [
    "def great(name):\n",
    "    print(f'hello{name}')\n",
    "great(' Nader')"
   ]
  },
  {
   "cell_type": "code",
   "execution_count": 19,
   "metadata": {},
   "outputs": [
    {
     "name": "stdout",
     "output_type": "stream",
     "text": [
      "Hello Nader Seif\n"
     ]
    }
   ],
   "source": [
    "def great (first_name,second_name):\n",
    "    print(f'Hello {first_name} {second_name}')\n",
    "great(\"Nader\",\"Seif\")"
   ]
  },
  {
   "cell_type": "code",
   "execution_count": 20,
   "metadata": {},
   "outputs": [
    {
     "data": {
      "text/plain": [
       "5"
      ]
     },
     "execution_count": 20,
     "metadata": {},
     "output_type": "execute_result"
    }
   ],
   "source": [
    "def add_2(x):\n",
    "    return x+2\n",
    "add_2(3)"
   ]
  },
  {
   "cell_type": "code",
   "execution_count": 21,
   "metadata": {},
   "outputs": [
    {
     "data": {
      "text/plain": [
       "5"
      ]
     },
     "execution_count": 21,
     "metadata": {},
     "output_type": "execute_result"
    }
   ],
   "source": [
    "y=add_2(3)\n",
    "y"
   ]
  },
  {
   "cell_type": "code",
   "execution_count": 22,
   "metadata": {},
   "outputs": [],
   "source": [
    "def add(x,y):\n",
    "    return x+y"
   ]
  },
  {
   "cell_type": "code",
   "execution_count": 23,
   "metadata": {},
   "outputs": [
    {
     "data": {
      "text/plain": [
       "11"
      ]
     },
     "execution_count": 23,
     "metadata": {},
     "output_type": "execute_result"
    }
   ],
   "source": [
    "add(5,6)"
   ]
  },
  {
   "cell_type": "code",
   "execution_count": 27,
   "metadata": {},
   "outputs": [
    {
     "data": {
      "text/plain": [
       "11"
      ]
     },
     "execution_count": 27,
     "metadata": {},
     "output_type": "execute_result"
    }
   ],
   "source": [
    "add(x=5,y=6)"
   ]
  },
  {
   "cell_type": "code",
   "execution_count": 24,
   "metadata": {},
   "outputs": [],
   "source": [
    "def increment(value,by):\n",
    "    return value+by"
   ]
  },
  {
   "cell_type": "code",
   "execution_count": 26,
   "metadata": {},
   "outputs": [
    {
     "data": {
      "text/plain": [
       "12"
      ]
     },
     "execution_count": 26,
     "metadata": {},
     "output_type": "execute_result"
    }
   ],
   "source": [
    "increment(10,2) # --> value =10 , increment by 2"
   ]
  }
 ],
 "metadata": {
  "interpreter": {
   "hash": "50566d513003613fc755d6751a89dcd7fad3a02455dfab5814d7ecb49de1307c"
  },
  "kernelspec": {
   "display_name": "Python 3.10.0 64-bit",
   "language": "python",
   "name": "python3"
  },
  "language_info": {
   "codemirror_mode": {
    "name": "ipython",
    "version": 3
   },
   "file_extension": ".py",
   "mimetype": "text/x-python",
   "name": "python",
   "nbconvert_exporter": "python",
   "pygments_lexer": "ipython3",
   "version": "3.10.0"
  },
  "orig_nbformat": 4
 },
 "nbformat": 4,
 "nbformat_minor": 2
}
