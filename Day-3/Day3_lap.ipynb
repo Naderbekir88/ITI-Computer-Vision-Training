{
 "cells": [
  {
   "cell_type": "markdown",
   "metadata": {},
   "source": [
    "### Write a program to display the last digit of a number."
   ]
  },
  {
   "cell_type": "code",
   "execution_count": 9,
   "metadata": {},
   "outputs": [
    {
     "name": "stdout",
     "output_type": "stream",
     "text": [
      "The last Number is :  8\n"
     ]
    }
   ],
   "source": [
    "\n",
    "# Find the last digit\n",
    "def Display_last_Digit(number) :\n",
    " \n",
    "    # return the last digit\n",
    "    return (number % 10)\n",
    " \n",
    "# Driver Code\n",
    "number = 985628\n",
    "print(\"The last Number is : \",Display_last_Digit(number))"
   ]
  },
  {
   "cell_type": "markdown",
   "metadata": {},
   "source": [
    "### Generate a Python list of all the even numbers between 4 to 30"
   ]
  },
  {
   "cell_type": "code",
   "execution_count": 10,
   "metadata": {},
   "outputs": [
    {
     "name": "stdout",
     "output_type": "stream",
     "text": [
      "[4, 6, 8, 10, 12, 14, 16, 18, 20, 22, 24, 26, 28]\n"
     ]
    }
   ],
   "source": [
    "list1=[]\n",
    "for i in range(4,30):\n",
    "    if i %2 ==0 :\n",
    "        list1.append(i)\n",
    "print(list1) "
   ]
  },
  {
   "cell_type": "markdown",
   "metadata": {},
   "source": [
    "### Make Method to Return the Maximum and Minimum  item from the given list \"lst=[100,30,22,40,60,20,10,300]\"  "
   ]
  },
  {
   "cell_type": "code",
   "execution_count": 11,
   "metadata": {},
   "outputs": [
    {
     "name": "stdout",
     "output_type": "stream",
     "text": [
      "The maximum Number is  300\n",
      "The minimum Number is  10\n"
     ]
    }
   ],
   "source": [
    "lst=[100,30,22,40,60,20,10,300]\n",
    "Min=min(lst)\n",
    "Max=max(lst)\n",
    "print(\"The maximum Number is \",Max)\n",
    "print(\"The minimum Number is \",Min)"
   ]
  },
  {
   "cell_type": "markdown",
   "metadata": {},
   "source": [
    "### Use a loop to display elements from a given list that are present at odd index positions\n"
   ]
  },
  {
   "cell_type": "code",
   "execution_count": 12,
   "metadata": {},
   "outputs": [
    {
     "name": "stdout",
     "output_type": "stream",
     "text": [
      "10\n",
      "30\n",
      "50\n",
      "70\n",
      "90\n"
     ]
    }
   ],
   "source": [
    "lst = [10, 20, 30, 40, 50, 60, 70, 80, 90, 100]\n",
    "for i in range(0, len(lst), 2):    \n",
    "    print(lst[i])"
   ]
  },
  {
   "cell_type": "markdown",
   "metadata": {},
   "source": [
    "#### Write a program to accept a number from 1 to 7 and display the name of the day like 1 for Sunday , 2 for Monday and so on."
   ]
  },
  {
   "cell_type": "code",
   "execution_count": 14,
   "metadata": {},
   "outputs": [
    {
     "name": "stdout",
     "output_type": "stream",
     "text": [
      "Sunday\n"
     ]
    }
   ],
   "source": [
    "weekday = int(input(\"please Enter weekday day number from (1-7) :  \"))\n",
    "\n",
    "if weekday == 1 :\n",
    "    print(\"Sunday\")\n",
    "\n",
    "elif weekday == 2 :\n",
    "    print(\"Monday\")\n",
    "\n",
    "elif(weekday == 3) :\n",
    "    print(\"Tuesday\")\n",
    "\n",
    "elif(weekday == 4) :\n",
    "    print(\"Wednesday\")\n",
    "\n",
    "elif(weekday == 5) :\n",
    "    print(\"Thursday\")\n",
    "\n",
    "elif(weekday == 6) :\n",
    "    print(\"Friday\")\n",
    "\n",
    "elif (weekday == 7) :\n",
    "    print(\"Saturday\")\n",
    "\n",
    "else :\n",
    "    print(\"Please Re-Enter weekday number between 1-7.\")"
   ]
  }
 ],
 "metadata": {
  "interpreter": {
   "hash": "50566d513003613fc755d6751a89dcd7fad3a02455dfab5814d7ecb49de1307c"
  },
  "kernelspec": {
   "display_name": "Python 3.10.0 64-bit",
   "language": "python",
   "name": "python3"
  },
  "language_info": {
   "codemirror_mode": {
    "name": "ipython",
    "version": 3
   },
   "file_extension": ".py",
   "mimetype": "text/x-python",
   "name": "python",
   "nbconvert_exporter": "python",
   "pygments_lexer": "ipython3",
   "version": "3.10.0"
  },
  "orig_nbformat": 4
 },
 "nbformat": 4,
 "nbformat_minor": 2
}
