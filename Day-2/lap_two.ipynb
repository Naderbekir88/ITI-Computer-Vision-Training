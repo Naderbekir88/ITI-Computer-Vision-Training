{
 "cells": [
  {
   "cell_type": "code",
   "execution_count": null,
   "metadata": {},
   "outputs": [],
   "source": []
  },
  {
   "cell_type": "code",
   "execution_count": null,
   "metadata": {},
   "outputs": [],
   "source": []
  },
  {
   "cell_type": "code",
   "execution_count": 1,
   "metadata": {},
   "outputs": [
    {
     "data": {
      "text/plain": [
       "'Nader Elsayed'"
      ]
     },
     "execution_count": 1,
     "metadata": {},
     "output_type": "execute_result"
    }
   ],
   "source": [
    "input(\"Enter Your Name:\")"
   ]
  },
  {
   "cell_type": "markdown",
   "metadata": {},
   "source": [
    "### # Given a list of numbers, Calculate and print the sum of the list."
   ]
  },
  {
   "cell_type": "code",
   "execution_count": 1,
   "metadata": {},
   "outputs": [
    {
     "name": "stdout",
     "output_type": "stream",
     "text": [
      "108\n"
     ]
    }
   ],
   "source": [
    "list1=[2, 0, 3, 14, 76, 5, 8]\n",
    "print(sum(list1))"
   ]
  },
  {
   "cell_type": "code",
   "execution_count": 3,
   "metadata": {},
   "outputs": [
    {
     "name": "stdout",
     "output_type": "stream",
     "text": [
      "108\n"
     ]
    }
   ],
   "source": [
    "list1=[2, 0, 3, 14, 76, 5, 8]\n",
    "sum=0\n",
    "for i in list1:\n",
    "    sum+=i\n",
    "print(sum)"
   ]
  },
  {
   "cell_type": "markdown",
   "metadata": {},
   "source": [
    "### # Given a list of numbers, Write a Python program to print the even number of this list."
   ]
  },
  {
   "cell_type": "code",
   "execution_count": 4,
   "metadata": {},
   "outputs": [
    {
     "name": "stdout",
     "output_type": "stream",
     "text": [
      "2\n",
      "0\n",
      "76\n",
      "8\n",
      "10\n",
      "42\n"
     ]
    }
   ],
   "source": [
    "list2=[2, 0, 3, 13, 76, 5, 8, 10, 1, 33, 42]\n",
    "for count in list2:\n",
    "    if count %2==0:\n",
    "        print(count)"
   ]
  },
  {
   "cell_type": "markdown",
   "metadata": {},
   "source": [
    "### Given 2 numbers a, b, Write a Python program to print the result of division a / b if b isn't zero and print \"Error!! Division by zero\" if b is zero"
   ]
  },
  {
   "cell_type": "code",
   "execution_count": 6,
   "metadata": {},
   "outputs": [
    {
     "name": "stdout",
     "output_type": "stream",
     "text": [
      "The result =  0\n"
     ]
    }
   ],
   "source": [
    "a=int(input())\n",
    "b=int(input())\n",
    "# condition\n",
    "if b==0:\n",
    "   \tprint(\"The result = \",0)\n",
    "else:\n",
    "\tprint(\"The result = \", a / b)\n"
   ]
  },
  {
   "cell_type": "code",
   "execution_count": 5,
   "metadata": {},
   "outputs": [
    {
     "name": "stdout",
     "output_type": "stream",
     "text": [
      "5.0\n"
     ]
    }
   ],
   "source": [
    "a=10\n",
    "b=2\n",
    "if (b!=0):\n",
    "    print(a/b)\n",
    "else:\n",
    "    print(\"Error !! Division by zero\")"
   ]
  },
  {
   "cell_type": "markdown",
   "metadata": {},
   "source": [
    "### Iterate over the following list, and print a new line for each element to match the follwing conditions: \n",
    "*  Print \"Even less than 10\" if the number is even and less than 10.\n",
    "*  Print \"Even greater than 10\" if the number is even and greater than 10.\n",
    "*  Print \"Odd less than 10\" if the number is odd and less than 10.\n",
    "*  Print \"Odd greater than 10\" if the number is odd and greater than 10.\n",
    "*  Print \"Zero\" if the number is zero."
   ]
  },
  {
   "cell_type": "code",
   "execution_count": 7,
   "metadata": {},
   "outputs": [],
   "source": [
    "list3=[2, 0, 3, 13, 76, 5, 8, 10, 1, 33, 42]"
   ]
  },
  {
   "cell_type": "code",
   "execution_count": 12,
   "metadata": {},
   "outputs": [
    {
     "name": "stdout",
     "output_type": "stream",
     "text": [
      "Even less than 10\n",
      "Even less than 10\n",
      "Even less than 10\n"
     ]
    }
   ],
   "source": [
    "for i in list3:\n",
    "    if i % 2 ==0 and i < 10 :\n",
    "        print(\"Even less than 10\")"
   ]
  },
  {
   "cell_type": "code",
   "execution_count": 10,
   "metadata": {},
   "outputs": [
    {
     "name": "stdout",
     "output_type": "stream",
     "text": [
      "Even greater than 10\n",
      "Even greater than 10\n"
     ]
    }
   ],
   "source": [
    "for i in list3:\n",
    "    if i % 2 ==0 and i > 10 :\n",
    "        print(\"Even greater than 10\")"
   ]
  },
  {
   "cell_type": "code",
   "execution_count": 14,
   "metadata": {},
   "outputs": [
    {
     "name": "stdout",
     "output_type": "stream",
     "text": [
      "Odd less than 10\n",
      "Odd less than 10\n",
      "Odd less than 10\n"
     ]
    }
   ],
   "source": [
    "for i in list3:\n",
    "    if i % 2 !=0 and i < 10 :\n",
    "        print(\"Odd less than 10\")"
   ]
  },
  {
   "cell_type": "code",
   "execution_count": 15,
   "metadata": {},
   "outputs": [
    {
     "name": "stdout",
     "output_type": "stream",
     "text": [
      "Odd greater than 10\n",
      "Odd greater than 10\n"
     ]
    }
   ],
   "source": [
    "for i in list3:\n",
    "    if i % 2 !=0 and i > 10 :\n",
    "        print(\"Odd greater than 10\")"
   ]
  },
  {
   "cell_type": "code",
   "execution_count": 17,
   "metadata": {},
   "outputs": [
    {
     "name": "stdout",
     "output_type": "stream",
     "text": [
      "zero\n"
     ]
    }
   ],
   "source": [
    "for i in list3:\n",
    "    if i == 0  :\n",
    "        print(\"zero\")"
   ]
  },
  {
   "cell_type": "markdown",
   "metadata": {},
   "source": [
    "### Find the index of the value \"76\" in the following list , \n",
    "* add this index to the end of the list,\n",
    "* then sort this list \n",
    "* print the list and its lenght."
   ]
  },
  {
   "cell_type": "code",
   "execution_count": 31,
   "metadata": {},
   "outputs": [],
   "source": [
    "list4=[2, 0, 3, 13, 76, 5, 8, 10, 1, 33, 42]"
   ]
  },
  {
   "cell_type": "code",
   "execution_count": 32,
   "metadata": {},
   "outputs": [
    {
     "data": {
      "text/plain": [
       "4"
      ]
     },
     "execution_count": 32,
     "metadata": {},
     "output_type": "execute_result"
    }
   ],
   "source": [
    "Index=list4.index(76)\n",
    "Index"
   ]
  },
  {
   "cell_type": "code",
   "execution_count": 33,
   "metadata": {},
   "outputs": [
    {
     "name": "stdout",
     "output_type": "stream",
     "text": [
      "[0, 1, 2, 3, 4, 5, 8, 10, 13, 33, 42, 76] 12\n"
     ]
    }
   ],
   "source": [
    "list4.append(Index)\n",
    "list4.sort()\n",
    "print(list4 , len(list4))"
   ]
  },
  {
   "cell_type": "markdown",
   "metadata": {},
   "source": [
    "### Given the following dictionary, \n",
    "* Change the value of age to be 42 \n",
    "* add a key to the dictionary named \"last_name\" and set its value to 'Turing'\n",
    "* remove the country key \n",
    "* print the result dictionary"
   ]
  },
  {
   "cell_type": "code",
   "execution_count": 43,
   "metadata": {},
   "outputs": [
    {
     "data": {
      "text/plain": [
       "{'first_name': 'Alan', 'age': 42, 'country': 'England'}"
      ]
     },
     "execution_count": 43,
     "metadata": {},
     "output_type": "execute_result"
    }
   ],
   "source": [
    "dict_1 = {'first_name': 'Alan', 'age': 26, 'country': 'England'}\n",
    "dict_1['age']=42\n",
    "dict_1"
   ]
  },
  {
   "cell_type": "code",
   "execution_count": 44,
   "metadata": {},
   "outputs": [],
   "source": [
    "dict_1[\"last_name\"]=\"Turing\""
   ]
  },
  {
   "cell_type": "code",
   "execution_count": 48,
   "metadata": {},
   "outputs": [
    {
     "data": {
      "text/plain": [
       "'England'"
      ]
     },
     "execution_count": 48,
     "metadata": {},
     "output_type": "execute_result"
    }
   ],
   "source": [
    "dict_1.pop('country')"
   ]
  },
  {
   "cell_type": "code",
   "execution_count": 49,
   "metadata": {},
   "outputs": [
    {
     "name": "stdout",
     "output_type": "stream",
     "text": [
      "{'first_name': 'Alan', 'age': 42, 'last_name': 'Turing'}\n"
     ]
    }
   ],
   "source": [
    "print(dict_1)"
   ]
  },
  {
   "cell_type": "markdown",
   "metadata": {},
   "source": [
    "#### Given the following set:\n",
    "* Add number 10 to the set\n",
    "* Then add the following numbers to the set: 6, 4, 5\n",
    "* remove the element 'Ali'\n",
    "* print the set"
   ]
  },
  {
   "cell_type": "code",
   "execution_count": 50,
   "metadata": {},
   "outputs": [],
   "source": [
    "set_1 = {1, 2, 3, 7.5, 'Ali'}"
   ]
  },
  {
   "cell_type": "code",
   "execution_count": 54,
   "metadata": {},
   "outputs": [
    {
     "data": {
      "text/plain": [
       "{1, 10, 2, 3, 7.5, 'Ali'}"
      ]
     },
     "execution_count": 54,
     "metadata": {},
     "output_type": "execute_result"
    }
   ],
   "source": [
    "set_1.update({10})\n",
    "set_1"
   ]
  },
  {
   "cell_type": "code",
   "execution_count": 55,
   "metadata": {},
   "outputs": [],
   "source": [
    "set_1.update({6,4,5})"
   ]
  },
  {
   "cell_type": "code",
   "execution_count": 56,
   "metadata": {},
   "outputs": [],
   "source": [
    "set_1.remove(\"Ali\")"
   ]
  },
  {
   "cell_type": "code",
   "execution_count": 57,
   "metadata": {},
   "outputs": [
    {
     "data": {
      "text/plain": [
       "{1, 2, 3, 4, 5, 6, 7.5, 10}"
      ]
     },
     "execution_count": 57,
     "metadata": {},
     "output_type": "execute_result"
    }
   ],
   "source": [
    "set_1"
   ]
  },
  {
   "cell_type": "code",
   "execution_count": null,
   "metadata": {},
   "outputs": [],
   "source": []
  }
 ],
 "metadata": {
  "interpreter": {
   "hash": "50566d513003613fc755d6751a89dcd7fad3a02455dfab5814d7ecb49de1307c"
  },
  "kernelspec": {
   "display_name": "Python 3.10.0 64-bit",
   "language": "python",
   "name": "python3"
  },
  "language_info": {
   "codemirror_mode": {
    "name": "ipython",
    "version": 3
   },
   "file_extension": ".py",
   "mimetype": "text/x-python",
   "name": "python",
   "nbconvert_exporter": "python",
   "pygments_lexer": "ipython3",
   "version": "3.10.0"
  },
  "orig_nbformat": 4
 },
 "nbformat": 4,
 "nbformat_minor": 2
}
